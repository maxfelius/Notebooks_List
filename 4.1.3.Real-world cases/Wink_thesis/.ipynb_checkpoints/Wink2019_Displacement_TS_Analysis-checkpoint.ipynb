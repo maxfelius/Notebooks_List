{
 "cells": [
  {
   "cell_type": "markdown",
   "metadata": {},
   "source": [
    "# Comparing Wink Sinkhole with the mathematical functions\n",
    "@ author: Max Felius"
   ]
  },
  {
   "cell_type": "code",
   "execution_count": null,
   "metadata": {},
   "outputs": [],
   "source": [
    "#imports\n",
    "import numpy as np\n",
    "import matplotlib.pyplot as plt\n",
    "import pandas as pd\n",
    "import re, datetime\n",
    "import os, sys, time\n",
    "\n",
    "# personal package for sinkhole comparison\n",
    "sys.path.extend(os.path.join(os.getcwd(),'package'))\n",
    "import package.geometric_models as gmodel\n",
    "import package.physical_models as pmodel\n",
    "# from package.inverse_kinematic_model import inverse_kinematic_model\n",
    "from package.sinkhole_data_loader import sinkhole_data_loader\n",
    "\n",
    "#stochastic scripts\n",
    "from package.stochastic_center_determination import center_determination as stochastic_center_determination\n",
    "from package.stochastic_inverse_lsq import inverse_kinematic_model as stochastic_inverse_kinematic_model\n",
    "\n",
    "#Beyer scripts\n",
    "from package.beyer_center_determination import center_determination as beyer_center_determination\n",
    "from package.beyer_inverse_lsq import inverse_kinematic_model as beyer_inverse_kinematic_model\n",
    "\n",
    "#sanns scripts\n",
    "from package.sanns_center_determination import center_determination as sanns_center_determination\n",
    "from package.sanns_inverse_lsq import inverse_kinematic_model as sanns_inverse_kinematic_model\n",
    "\n",
    "#geometric models\n",
    "from package.geometric_models import gaussian\n",
    "from package.geometric_models import beyer\n",
    "from package.geometric_models import sann\n",
    "\n",
    "#physical model\n",
    "from package.physical_models import mogi\n",
    "from package.physical_models import least_squares_mogi\n",
    "\n",
    "#bals' geometric model\n",
    "from package.balls_lsq import inverse_kinematic_model\n",
    "from package.balls_lsq import zg as bals_zg\n",
    "from package.balls_lsq import center_determination\n",
    "\n",
    "data_folder = 'Wink2016'\n",
    "\n",
    "start_date = '20150421'\n",
    "start_date_datetime = datetime.datetime.strptime(start_date,'%Y%m%d')\n",
    "date_list = []\n",
    "delta_days = []\n",
    "data_list = []\n",
    "\n",
    "for date in sorted(os.listdir(data_folder)):\n",
    "    if date.endswith('.csv'):\n",
    "        #get the date from the title\n",
    "        m = re.search(r'\\d{8}',date)\n",
    "        date_conv = datetime.datetime.strptime(m.group(0),'%Y%m%d')\n",
    "        date_list.append(date_conv)\n",
    "\n",
    "        #Determine the number of days since the start date\n",
    "        delta_days.append((date_conv-start_date_datetime).days)\n",
    "\n",
    "        #Read the data from the files\n",
    "        data_list.append(pd.read_csv(os.path.join(data_folder,date),header=None))\n",
    "\n",
    "#extract and combine x and z coordinates and define t\n",
    "x = np.array([])\n",
    "y = np.array([])\n",
    "t = np.array([])\n",
    "nitems = 0\n",
    "for idx,item in enumerate(data_list):\n",
    "    nitems += 1\n",
    "    n = len(item)\n",
    "    t = np.concatenate((t,[delta_days[idx]]*n))\n",
    "    x = np.concatenate((x,item[0].values))\n",
    "    y = np.concatenate((y,item[1].values))\n",
    "\n",
    "#from cm to meter\n",
    "y = y/100"
   ]
  },
  {
   "cell_type": "code",
   "execution_count": null,
   "metadata": {},
   "outputs": [],
   "source": []
  },
  {
   "cell_type": "code",
   "execution_count": null,
   "metadata": {},
   "outputs": [],
   "source": []
  },
  {
   "cell_type": "code",
   "execution_count": null,
   "metadata": {},
   "outputs": [],
   "source": []
  },
  {
   "cell_type": "code",
   "execution_count": null,
   "metadata": {},
   "outputs": [],
   "source": []
  },
  {
   "cell_type": "code",
   "execution_count": null,
   "metadata": {},
   "outputs": [],
   "source": []
  },
  {
   "cell_type": "code",
   "execution_count": null,
   "metadata": {},
   "outputs": [],
   "source": []
  }
 ],
 "metadata": {
  "kernelspec": {
   "display_name": "Python 3",
   "language": "python",
   "name": "python3"
  },
  "language_info": {
   "codemirror_mode": {
    "name": "ipython",
    "version": 3
   },
   "file_extension": ".py",
   "mimetype": "text/x-python",
   "name": "python",
   "nbconvert_exporter": "python",
   "pygments_lexer": "ipython3",
   "version": "3.8.5"
  }
 },
 "nbformat": 4,
 "nbformat_minor": 4
}
