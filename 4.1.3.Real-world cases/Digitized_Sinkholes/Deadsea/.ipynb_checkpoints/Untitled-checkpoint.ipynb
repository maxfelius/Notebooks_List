{
 "cells": [
  {
   "cell_type": "markdown",
   "metadata": {},
   "source": [
    "# Notebook for plotting Graphs from Baer 2018\n",
    "\n",
    "This website is used to convert a picture of a graph to actual data\n",
    "https://apps.automeris.io/wpd/\n",
    "\n",
    "3 datasets are plotted in this notebook:\n",
    "- Baer 2018 1\n",
    "- Baer 2018 2\n",
    "- Baer 2018 3"
   ]
  },
  {
   "cell_type": "code",
   "execution_count": 1,
   "metadata": {},
   "outputs": [],
   "source": [
    "#imports\n",
    "import numpy as np\n",
    "import pandas as pd\n",
    "import matplotlib.pyplot as plt\n",
    "import sys,os,time\n",
    "import re, datetime"
   ]
  },
  {
   "cell_type": "markdown",
   "metadata": {},
   "source": [
    "## Baer 2018 1\n",
    "\n",
    "![](dataset/Baer2018_1.png)"
   ]
  },
  {
   "cell_type": "code",
   "execution_count": 20,
   "metadata": {},
   "outputs": [
    {
     "name": "stdout",
     "output_type": "stream",
     "text": [
      "[datetime.datetime(2011, 12, 14, 0, 0), datetime.datetime(2011, 12, 14, 0, 0), datetime.datetime(2011, 12, 14, 0, 0), datetime.datetime(2011, 12, 14, 0, 0), datetime.datetime(2011, 12, 14, 0, 0), datetime.datetime(2011, 12, 14, 0, 0), datetime.datetime(2011, 12, 14, 0, 0), datetime.datetime(2011, 12, 14, 0, 0), datetime.datetime(2011, 12, 14, 0, 0), datetime.datetime(2011, 12, 14, 0, 0)]\n"
     ]
    }
   ],
   "source": [
    "folder = 'Dataset/Baer2018_1'\n",
    "\n",
    "dataset_locations = []\n",
    "for item in os.listdir(folder):\n",
    "    if item.endswith('.csv'):\n",
    "        dataset_locations.append(item)\n",
    "\n",
    "\n",
    "#sort the datasets\n",
    "dataset_locations = sorted(dataset_locations)\n",
    "\n",
    "#filter out the datas from the dataset locations\n",
    "dates_str = list(map(lambda x:re.findall(r\"(?:[111214-])?\\d{6}\",x)[0],dataset_locations))\n",
    "\n",
    "# #converts string dates to datetime objects\n",
    "dates = list(map(lambda x: datetime.datetime.strptime(x,'%y%m%d'),dates_str))"
   ]
  },
  {
   "cell_type": "code",
   "execution_count": null,
   "metadata": {},
   "outputs": [],
   "source": []
  },
  {
   "cell_type": "code",
   "execution_count": null,
   "metadata": {},
   "outputs": [],
   "source": []
  }
 ],
 "metadata": {
  "kernelspec": {
   "display_name": "Python 3",
   "language": "python",
   "name": "python3"
  },
  "language_info": {
   "codemirror_mode": {
    "name": "ipython",
    "version": 3
   },
   "file_extension": ".py",
   "mimetype": "text/x-python",
   "name": "python",
   "nbconvert_exporter": "python",
   "pygments_lexer": "ipython3",
   "version": "3.8.5"
  }
 },
 "nbformat": 4,
 "nbformat_minor": 4
}
