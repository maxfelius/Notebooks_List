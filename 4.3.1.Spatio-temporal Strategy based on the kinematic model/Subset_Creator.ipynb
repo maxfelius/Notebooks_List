{
 "cells": [
  {
   "cell_type": "markdown",
   "metadata": {},
   "source": [
    "# Subset Creator\n",
    "@author: Max Felius"
   ]
  },
  {
   "cell_type": "code",
   "execution_count": 1,
   "metadata": {},
   "outputs": [],
   "source": [
    "#imports\n",
    "import numpy as np\n",
    "import pandas as pd\n",
    "import geopandas as gpd\n",
    "import matplotlib.pyplot as plt\n",
    "import os, sys, time\n",
    "import re, datetime\n",
    "from scipy import spatial\n",
    "from tqdm import tqdm\n",
    "from decouple import config\n",
    "\n",
    "#import personal functions\n",
    "sys.path.extend(os.path.join(os.getcwd(),'sinkhole_functions'))\n",
    "from sinkhole_functions.functions import *\n",
    "from sinkhole_functions.influence_functions import *\n",
    "from sinkhole_functions.spatio_temporal_functions import *"
   ]
  },
  {
   "cell_type": "code",
   "execution_count": null,
   "metadata": {},
   "outputs": [],
   "source": [
    "#import paths\n",
    "mrss = config('MRSS')\n",
    "filename = 'full-pixel_mrss_s1_asc_t88_v4_080a1cbf7de1b6d42b3465772d9065fe7115d4bf.csv'\n",
    "\n",
    "#import data\n",
    "data = pd.read_csv(os.path.join(mrss,filename))"
   ]
  },
  {
   "cell_type": "code",
   "execution_count": 8,
   "metadata": {},
   "outputs": [],
   "source": [
    "#convert to rijksdriehoek\n",
    "data_gdf = gpd.GeoDataFrame(data, geometry=gpd.points_from_xy(data.pnt_lon, data.pnt_lat))\n",
    "data_gdf.crs = 'epsg:4326' #wgs84\n",
    "data_gdf = data_gdf.to_crs('epsg:28992')\n",
    "\n",
    "#new locations coordinates in Rijksdriehoek\n",
    "x0 = 203050\n",
    "y0 = 318500\n",
    "\n",
    "#make the subset\n",
    "rdx = data_gdf.geometry.x.values\n",
    "rdy = data_gdf.geometry.y.values\n",
    "rd_data = np.concatenate((rdx.reshape(len(rdx),1),rdy.reshape(len(rdy),1)),axis=1)\n",
    "tree = spatial.cKDTree(rd_data)\n",
    "\n",
    "#cropping the dataset\n",
    "radius = 100\n",
    "subset = tree.query_ball_point(([x0,y0]),r=radius)\n",
    "data = data.iloc[subset]\n",
    "\n",
    "#save dataset\n",
    "data.to_csv('Subset_MRSS_s1_asc_t88_x0_{:.02f}_y0_{:.02f}_r{}m.csv'.format(x0,y0,radius))"
   ]
  }
 ],
 "metadata": {
  "kernelspec": {
   "display_name": "Python 3",
   "language": "python",
   "name": "python3"
  },
  "language_info": {
   "codemirror_mode": {
    "name": "ipython",
    "version": 3
   },
   "file_extension": ".py",
   "mimetype": "text/x-python",
   "name": "python",
   "nbconvert_exporter": "python",
   "pygments_lexer": "ipython3",
   "version": "3.8.5"
  }
 },
 "nbformat": 4,
 "nbformat_minor": 4
}
