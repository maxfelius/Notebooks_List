{
 "cells": [
  {
   "cell_type": "markdown",
   "metadata": {},
   "source": [
    "# Statistics size detection\n",
    "@author: Max Felius"
   ]
  },
  {
   "cell_type": "code",
   "execution_count": 1,
   "metadata": {},
   "outputs": [],
   "source": [
    "#imports\n",
    "import numpy as np\n",
    "import pandas as pd\n",
    "import geopandas as gpd\n",
    "import sys, os, time\n",
    "import matplotlib.pyplot as plt\n",
    "from tqdm import tqdm\n",
    "from shapely.geometry import Point\n",
    "from scipy import spatial\n",
    "\n",
    "# import personal functions \n",
    "sys.path.extend(os.path.join(os.getcwd(),'sinkhole_functions'))\n",
    "from sinkhole_functions.functions import * \n",
    "from sinkhole_functions.geometric_models import *\n",
    "from sinkhole_functions.detectability_map import *"
   ]
  },
  {
   "cell_type": "code",
   "execution_count": 2,
   "metadata": {},
   "outputs": [],
   "source": [
    "folder = ''\n",
    "filename = 'Detectability_Map_Posting1m_Franciscanerstraat.csv'\n",
    "\n",
    "dataset_filename = os.path.join(folder,filename)\n",
    "\n",
    "data = pd.read_csv(dataset_filename,index_col=0)\n",
    "# geo_data = gpd.GeoDataFrame(data.drop(['geometry'],axis=1),crs={'init':'epsg:4326'},geometry=[Point(xy) for xy in zip(data.pnt_lon, data.pnt_lat)])\n",
    "\n",
    "# #other crs\n",
    "# geo_data = geo_data.to_crs('epsg:28992')\n",
    "\n",
    "# rdx = geo_data.geometry.x.values\n",
    "# rdy = geo_data.geometry.y.values"
   ]
  },
  {
   "cell_type": "code",
   "execution_count": 3,
   "metadata": {},
   "outputs": [
    {
     "data": {
      "image/png": "[encoded data removed]",
      "text/plain": [
       "<Figure size 648x504 with 1 Axes>"
      ]
     },
     "metadata": {
      "needs_background": "light"
     },
     "output_type": "display_data"
    }
   ],
   "source": [
    "size = np.abs(data['Sum']-100)\n",
    "\n",
    "plt.figure(figsize=(9,7))\n",
    "plt.hist(size,bins=50)\n",
    "plt.title('Number of bins used: 50')\n",
    "plt.ylabel('Count [-]')\n",
    "plt.xlabel('Radius of Influence $R$ [m]')\n",
    "plt.grid(True);\n",
    "\n",
    "# plt.savefig('Statistics_MDS.png')"
   ]
  },
  {
   "cell_type": "code",
   "execution_count": 6,
   "metadata": {},
   "outputs": [
    {
     "name": "stdout",
     "output_type": "stream",
     "text": [
      "Total number of postings is: 98141. Where 89605 are 35 meters of smaller and this is 91%\n"
     ]
    }
   ],
   "source": [
    "R_max = 35\n",
    "total = len(data['Sum'])\n",
    "numb_sinks_le20 = np.sum(abs(data['Sum']-100) <= R_max)\n",
    "                         \n",
    "print('Total number of postings is: {}. Where {} are {} meters or smaller and this is {:.0f}%'.format(total,numb_sinks_le20,R_max,(numb_sinks_le20/total *100)))                        "
   ]
  }
 ],
 "metadata": {
  "kernelspec": {
   "display_name": "Python 3",
   "language": "python",
   "name": "python3"
  },
  "language_info": {
   "codemirror_mode": {
    "name": "ipython",
    "version": 3
   },
   "file_extension": ".py",
   "mimetype": "text/x-python",
   "name": "python",
   "nbconvert_exporter": "python",
   "pygments_lexer": "ipython3",
   "version": "3.8.5"
  }
 },
 "nbformat": 4,
 "nbformat_minor": 4
}
